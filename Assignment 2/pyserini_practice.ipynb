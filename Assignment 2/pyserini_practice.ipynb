{
 "cells": [
  {
   "cell_type": "code",
   "execution_count": 2,
   "metadata": {},
   "outputs": [],
   "source": [
    "from pyserini.index import IndexReader\n",
    "from tqdm import tqdm, trange\n",
    "import numpy as np\n",
    "import pandas as pd\n",
    "import json"
   ]
  },
  {
   "cell_type": "markdown",
   "metadata": {},
   "source": [
    "# Task 1"
   ]
  },
  {
   "cell_type": "code",
   "execution_count": 3,
   "metadata": {},
   "outputs": [],
   "source": [
    "# transfer the csv to matching json\n",
    "def csv_to_json(i = 1, filename = 'documents'):\n",
    "    df = pd.read_csv(\"./data\" + str(i) + \"/\" + filename + \".csv\")\n",
    "    df = df[[\"DocumentId\", \"Title\", \"Document Description\"]] \\\n",
    "                .rename(columns={\"DocumentId\": \"id\", \"Title\": \"title\", \"Document Description\": \"contents\"})\n",
    "    doc_df = pd.DataFrame({\"id\": df[\"id\"], \"contents\": [str(t) + \" \" + str(t) + \" \" + str(c) for t, c in zip(df[\"title\"], df[\"contents\"])]})\n",
    "    result = doc_df.to_json(orient=\"records\")\n",
    "    parsed = json.loads(result)\n",
    "    with open(\"./data\" + str(i) + \"/\" + filename + \".json\", 'w') as outfile:\n",
    "        json.dump(parsed, outfile, indent = 4)\n",
    "        \n",
    "csv_to_json(1, 'documents')\n",
    "csv_to_json(2, 'documents_gaming')\n",
    "csv_to_json(3, 'documents_android')"
   ]
  },
  {
   "cell_type": "markdown",
   "metadata": {},
   "source": [
    "Command Lines:\n",
    "\n",
    "```\n",
    "python -m pyserini.index -collection JsonCollection -generator DefaultLuceneDocumentGenerator -threads 1 -input ./data{i}/ -index ./data{i}/index -storePositions -storeDocvectors -storeContents\n",
    "```"
   ]
  },
  {
   "cell_type": "code",
   "execution_count": 4,
   "metadata": {},
   "outputs": [
    {
     "name": "stdout",
     "output_type": "stream",
     "text": [
      "WARNING: sun.reflect.Reflection.getCallerClass is not supported. This will impact performance.\n",
      "2021-10-14 11:07:53,597 INFO  [main] index.IndexCollection (IndexCollection.java:643) - Setting log level to INFO\n",
      "2021-10-14 11:07:53,599 INFO  [main] index.IndexCollection (IndexCollection.java:646) - Starting indexer...\n",
      "2021-10-14 11:07:53,599 INFO  [main] index.IndexCollection (IndexCollection.java:647) - ============ Loading Parameters ============\n",
      "2021-10-14 11:07:53,599 INFO  [main] index.IndexCollection (IndexCollection.java:648) - DocumentCollection path: ./data1/\n",
      "2021-10-14 11:07:53,599 INFO  [main] index.IndexCollection (IndexCollection.java:649) - CollectionClass: JsonCollection\n",
      "2021-10-14 11:07:53,599 INFO  [main] index.IndexCollection (IndexCollection.java:650) - Generator: DefaultLuceneDocumentGenerator\n",
      "2021-10-14 11:07:53,599 INFO  [main] index.IndexCollection (IndexCollection.java:651) - Threads: 1\n",
      "2021-10-14 11:07:53,599 INFO  [main] index.IndexCollection (IndexCollection.java:652) - Stemmer: porter\n",
      "2021-10-14 11:07:53,599 INFO  [main] index.IndexCollection (IndexCollection.java:653) - Keep stopwords? false\n",
      "2021-10-14 11:07:53,600 INFO  [main] index.IndexCollection (IndexCollection.java:654) - Stopwords:  null\n",
      "2021-10-14 11:07:53,600 INFO  [main] index.IndexCollection (IndexCollection.java:655) - Store positions? true\n",
      "2021-10-14 11:07:53,600 INFO  [main] index.IndexCollection (IndexCollection.java:656) - Store docvectors? true\n",
      "2021-10-14 11:07:53,600 INFO  [main] index.IndexCollection (IndexCollection.java:657) - Store document \"contents\" field? true\n",
      "2021-10-14 11:07:53,600 INFO  [main] index.IndexCollection (IndexCollection.java:658) - Store document \"raw\" field? false\n",
      "2021-10-14 11:07:53,600 INFO  [main] index.IndexCollection (IndexCollection.java:659) - Optimize (merge segments)? false\n",
      "2021-10-14 11:07:53,601 INFO  [main] index.IndexCollection (IndexCollection.java:660) - Whitelist: null\n",
      "2021-10-14 11:07:53,601 INFO  [main] index.IndexCollection (IndexCollection.java:661) - Pretokenized?: false\n",
      "2021-10-14 11:07:53,601 INFO  [main] index.IndexCollection (IndexCollection.java:681) - Directly building Lucene indexes...\n",
      "2021-10-14 11:07:53,601 INFO  [main] index.IndexCollection (IndexCollection.java:682) - Index path: ./data1/index\n",
      "2021-10-14 11:07:53,604 INFO  [main] index.IndexCollection (IndexCollection.java:731) - ============ Indexing Collection ============\n",
      "2021-10-14 11:07:53,715 INFO  [main] index.IndexCollection (IndexCollection.java:829) - Thread pool with 1 threads initialized.\n",
      "2021-10-14 11:07:53,716 INFO  [main] index.IndexCollection (IndexCollection.java:831) - Initializing collection in .\\data1\n",
      "2021-10-14 11:07:53,720 INFO  [main] index.IndexCollection (IndexCollection.java:840) - 1 file found\n",
      "2021-10-14 11:07:53,720 INFO  [main] index.IndexCollection (IndexCollection.java:841) - Starting to index...\n",
      "2021-10-14 11:08:05,880 DEBUG [pool-2-thread-1] index.IndexCollection$LocalIndexerThread (IndexCollection.java:248) - data1\\documents.json: 59887 docs added.\n",
      "2021-10-14 11:08:07,232 INFO  [main] index.IndexCollection (IndexCollection.java:925) - Indexing Complete! 59,887 documents indexed\n",
      "2021-10-14 11:08:07,232 INFO  [main] index.IndexCollection (IndexCollection.java:926) - ============ Final Counter Values ============\n",
      "2021-10-14 11:08:07,232 INFO  [main] index.IndexCollection (IndexCollection.java:927) - indexed:           59,887\n",
      "2021-10-14 11:08:07,233 INFO  [main] index.IndexCollection (IndexCollection.java:928) - unindexable:            0\n",
      "2021-10-14 11:08:07,233 INFO  [main] index.IndexCollection (IndexCollection.java:929) - empty:                  0\n",
      "2021-10-14 11:08:07,233 INFO  [main] index.IndexCollection (IndexCollection.java:930) - skipped:                0\n",
      "2021-10-14 11:08:07,233 INFO  [main] index.IndexCollection (IndexCollection.java:931) - errors:                 0\n",
      "2021-10-14 11:08:07,237 INFO  [main] index.IndexCollection (IndexCollection.java:934) - Total 59,887 documents indexed in 00:00:13\n",
      "WARNING: sun.reflect.Reflection.getCallerClass is not supported. This will impact performance.\n",
      "2021-10-14 11:08:09,875 INFO  [main] index.IndexCollection (IndexCollection.java:643) - Setting log level to INFO\n",
      "2021-10-14 11:08:09,878 INFO  [main] index.IndexCollection (IndexCollection.java:646) - Starting indexer...\n",
      "2021-10-14 11:08:09,878 INFO  [main] index.IndexCollection (IndexCollection.java:647) - ============ Loading Parameters ============\n",
      "2021-10-14 11:08:09,879 INFO  [main] index.IndexCollection (IndexCollection.java:648) - DocumentCollection path: ./data2/\n",
      "2021-10-14 11:08:09,879 INFO  [main] index.IndexCollection (IndexCollection.java:649) - CollectionClass: JsonCollection\n",
      "2021-10-14 11:08:09,879 INFO  [main] index.IndexCollection (IndexCollection.java:650) - Generator: DefaultLuceneDocumentGenerator\n",
      "2021-10-14 11:08:09,880 INFO  [main] index.IndexCollection (IndexCollection.java:651) - Threads: 1\n",
      "2021-10-14 11:08:09,880 INFO  [main] index.IndexCollection (IndexCollection.java:652) - Stemmer: porter\n",
      "2021-10-14 11:08:09,880 INFO  [main] index.IndexCollection (IndexCollection.java:653) - Keep stopwords? false\n",
      "2021-10-14 11:08:09,880 INFO  [main] index.IndexCollection (IndexCollection.java:654) - Stopwords:  null\n",
      "2021-10-14 11:08:09,881 INFO  [main] index.IndexCollection (IndexCollection.java:655) - Store positions? true\n",
      "2021-10-14 11:08:09,881 INFO  [main] index.IndexCollection (IndexCollection.java:656) - Store docvectors? true\n",
      "2021-10-14 11:08:09,881 INFO  [main] index.IndexCollection (IndexCollection.java:657) - Store document \"contents\" field? true\n",
      "2021-10-14 11:08:09,882 INFO  [main] index.IndexCollection (IndexCollection.java:658) - Store document \"raw\" field? false\n",
      "2021-10-14 11:08:09,882 INFO  [main] index.IndexCollection (IndexCollection.java:659) - Optimize (merge segments)? false\n",
      "2021-10-14 11:08:09,883 INFO  [main] index.IndexCollection (IndexCollection.java:660) - Whitelist: null\n",
      "2021-10-14 11:08:09,883 INFO  [main] index.IndexCollection (IndexCollection.java:661) - Pretokenized?: false\n",
      "2021-10-14 11:08:09,883 INFO  [main] index.IndexCollection (IndexCollection.java:681) - Directly building Lucene indexes...\n",
      "2021-10-14 11:08:09,883 INFO  [main] index.IndexCollection (IndexCollection.java:682) - Index path: ./data2/index\n",
      "2021-10-14 11:08:09,888 INFO  [main] index.IndexCollection (IndexCollection.java:731) - ============ Indexing Collection ============\n",
      "2021-10-14 11:08:10,067 INFO  [main] index.IndexCollection (IndexCollection.java:829) - Thread pool with 1 threads initialized.\n",
      "2021-10-14 11:08:10,068 INFO  [main] index.IndexCollection (IndexCollection.java:831) - Initializing collection in .\\data2\n",
      "2021-10-14 11:08:10,076 INFO  [main] index.IndexCollection (IndexCollection.java:840) - 1 file found\n",
      "2021-10-14 11:08:10,076 INFO  [main] index.IndexCollection (IndexCollection.java:841) - Starting to index...\n",
      "2021-10-14 11:08:15,890 DEBUG [pool-2-thread-1] index.IndexCollection$LocalIndexerThread (IndexCollection.java:248) - data2\\documents_gaming.json: 45301 docs added.\n",
      "2021-10-14 11:08:16,682 INFO  [main] index.IndexCollection (IndexCollection.java:925) - Indexing Complete! 45,301 documents indexed\n",
      "2021-10-14 11:08:16,682 INFO  [main] index.IndexCollection (IndexCollection.java:926) - ============ Final Counter Values ============\n",
      "2021-10-14 11:08:16,683 INFO  [main] index.IndexCollection (IndexCollection.java:927) - indexed:           45,301\n",
      "2021-10-14 11:08:16,683 INFO  [main] index.IndexCollection (IndexCollection.java:928) - unindexable:            0\n",
      "2021-10-14 11:08:16,683 INFO  [main] index.IndexCollection (IndexCollection.java:929) - empty:                  0\n",
      "2021-10-14 11:08:16,684 INFO  [main] index.IndexCollection (IndexCollection.java:930) - skipped:                0\n",
      "2021-10-14 11:08:16,684 INFO  [main] index.IndexCollection (IndexCollection.java:931) - errors:                 0\n",
      "2021-10-14 11:08:16,689 INFO  [main] index.IndexCollection (IndexCollection.java:934) - Total 45,301 documents indexed in 00:00:06\n",
      "WARNING: sun.reflect.Reflection.getCallerClass is not supported. This will impact performance.\n",
      "2021-10-14 11:08:19,069 INFO  [main] index.IndexCollection (IndexCollection.java:643) - Setting log level to INFO\n",
      "2021-10-14 11:08:19,070 INFO  [main] index.IndexCollection (IndexCollection.java:646) - Starting indexer...\n",
      "2021-10-14 11:08:19,070 INFO  [main] index.IndexCollection (IndexCollection.java:647) - ============ Loading Parameters ============\n",
      "2021-10-14 11:08:19,070 INFO  [main] index.IndexCollection (IndexCollection.java:648) - DocumentCollection path: ./data3/\n",
      "2021-10-14 11:08:19,070 INFO  [main] index.IndexCollection (IndexCollection.java:649) - CollectionClass: JsonCollection\n",
      "2021-10-14 11:08:19,070 INFO  [main] index.IndexCollection (IndexCollection.java:650) - Generator: DefaultLuceneDocumentGenerator\n",
      "2021-10-14 11:08:19,071 INFO  [main] index.IndexCollection (IndexCollection.java:651) - Threads: 1\n",
      "2021-10-14 11:08:19,071 INFO  [main] index.IndexCollection (IndexCollection.java:652) - Stemmer: porter\n",
      "2021-10-14 11:08:19,071 INFO  [main] index.IndexCollection (IndexCollection.java:653) - Keep stopwords? false\n",
      "2021-10-14 11:08:19,071 INFO  [main] index.IndexCollection (IndexCollection.java:654) - Stopwords:  null\n",
      "2021-10-14 11:08:19,071 INFO  [main] index.IndexCollection (IndexCollection.java:655) - Store positions? true\n",
      "2021-10-14 11:08:19,071 INFO  [main] index.IndexCollection (IndexCollection.java:656) - Store docvectors? true\n",
      "2021-10-14 11:08:19,072 INFO  [main] index.IndexCollection (IndexCollection.java:657) - Store document \"contents\" field? true\n",
      "2021-10-14 11:08:19,072 INFO  [main] index.IndexCollection (IndexCollection.java:658) - Store document \"raw\" field? false\n",
      "2021-10-14 11:08:19,072 INFO  [main] index.IndexCollection (IndexCollection.java:659) - Optimize (merge segments)? false\n",
      "2021-10-14 11:08:19,072 INFO  [main] index.IndexCollection (IndexCollection.java:660) - Whitelist: null\n",
      "2021-10-14 11:08:19,072 INFO  [main] index.IndexCollection (IndexCollection.java:661) - Pretokenized?: false\n",
      "2021-10-14 11:08:19,072 INFO  [main] index.IndexCollection (IndexCollection.java:681) - Directly building Lucene indexes...\n",
      "2021-10-14 11:08:19,072 INFO  [main] index.IndexCollection (IndexCollection.java:682) - Index path: ./data3/index\n",
      "2021-10-14 11:08:19,075 INFO  [main] index.IndexCollection (IndexCollection.java:731) - ============ Indexing Collection ============\n",
      "2021-10-14 11:08:19,183 INFO  [main] index.IndexCollection (IndexCollection.java:829) - Thread pool with 1 threads initialized.\n",
      "2021-10-14 11:08:19,183 INFO  [main] index.IndexCollection (IndexCollection.java:831) - Initializing collection in .\\data3\n",
      "2021-10-14 11:08:19,187 INFO  [main] index.IndexCollection (IndexCollection.java:840) - 1 file found\n",
      "2021-10-14 11:08:19,187 INFO  [main] index.IndexCollection (IndexCollection.java:841) - Starting to index...\n",
      "2021-10-14 11:08:23,042 DEBUG [pool-2-thread-1] index.IndexCollection$LocalIndexerThread (IndexCollection.java:248) - data3\\documents_android.json: 22998 docs added.\n",
      "2021-10-14 11:08:23,728 INFO  [main] index.IndexCollection (IndexCollection.java:925) - Indexing Complete! 22,998 documents indexed\n",
      "2021-10-14 11:08:23,728 INFO  [main] index.IndexCollection (IndexCollection.java:926) - ============ Final Counter Values ============\n",
      "2021-10-14 11:08:23,729 INFO  [main] index.IndexCollection (IndexCollection.java:927) - indexed:           22,998\n",
      "2021-10-14 11:08:23,729 INFO  [main] index.IndexCollection (IndexCollection.java:928) - unindexable:            0\n",
      "2021-10-14 11:08:23,729 INFO  [main] index.IndexCollection (IndexCollection.java:929) - empty:                  0\n",
      "2021-10-14 11:08:23,730 INFO  [main] index.IndexCollection (IndexCollection.java:930) - skipped:                0\n",
      "2021-10-14 11:08:23,730 INFO  [main] index.IndexCollection (IndexCollection.java:931) - errors:                 0\n",
      "2021-10-14 11:08:23,738 INFO  [main] index.IndexCollection (IndexCollection.java:934) - Total 22,998 documents indexed in 00:00:04\n"
     ]
    }
   ],
   "source": [
    "! python -m pyserini.index -collection JsonCollection -generator DefaultLuceneDocumentGenerator -threads 1 -input ./data1/ -index ./data1/index -storePositions -storeDocvectors -storeContents   \n",
    "! python -m pyserini.index -collection JsonCollection -generator DefaultLuceneDocumentGenerator -threads 1 -input ./data2/ -index ./data2/index -storePositions -storeDocvectors -storeContents\n",
    "! python -m pyserini.index -collection JsonCollection -generator DefaultLuceneDocumentGenerator -threads 1 -input ./data3/ -index ./data3/index -storePositions -storeDocvectors -storeContents"
   ]
  },
  {
   "cell_type": "markdown",
   "metadata": {},
   "source": [
    "# Task 2\n",
    "\n",
    "We look into data1 at this part."
   ]
  },
  {
   "cell_type": "code",
   "execution_count": 44,
   "metadata": {},
   "outputs": [],
   "source": [
    "doc_dict = {1:2, 3:4}\n",
    "filename = f\"./cache/doc_dict3.json\"\n",
    "with open(filename, \"w\") as outfile:\n",
    "    json.dump(doc_dict, outfile, indent = 4)"
   ]
  },
  {
   "cell_type": "code",
   "execution_count": null,
   "metadata": {},
   "outputs": [],
   "source": []
  },
  {
   "cell_type": "code",
   "execution_count": null,
   "metadata": {},
   "outputs": [],
   "source": []
  }
 ],
 "metadata": {
  "kernelspec": {
   "display_name": "Python 3",
   "language": "python",
   "name": "python3"
  },
  "language_info": {
   "codemirror_mode": {
    "name": "ipython",
    "version": 3
   },
   "file_extension": ".py",
   "mimetype": "text/x-python",
   "name": "python",
   "nbconvert_exporter": "python",
   "pygments_lexer": "ipython3",
   "version": "3.8.5"
  }
 },
 "nbformat": 4,
 "nbformat_minor": 4
}
